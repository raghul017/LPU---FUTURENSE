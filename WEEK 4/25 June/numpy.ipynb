{
  "nbformat": 4,
  "nbformat_minor": 0,
  "metadata": {
    "colab": {
      "provenance": []
    },
    "kernelspec": {
      "name": "python3",
      "display_name": "Python 3"
    },
    "language_info": {
      "name": "python"
    }
  },
  "cells": [
    {
      "cell_type": "markdown",
      "source": [
        "1 - Create an array with 15 random floating-point numbers between 0 and 1. Compute the mean, median, standard deviation, and variance.\n"
      ],
      "metadata": {
        "id": "Z7LtS5YmJM-Y"
      }
    },
    {
      "cell_type": "code",
      "source": [
        "import numpy as np\n",
        "\n",
        "# Create an array with 15 random floating-point numbers between 0 and 1\n",
        "array = np.random.rand(15)\n",
        "print(\"Array:\")\n",
        "print(array)\n",
        "\n",
        "# Compute statistical operations\n",
        "mean = np.mean(array)\n",
        "median = np.median(array)\n",
        "std_dev = np.std(array)\n",
        "variance = np.var(array)\n",
        "\n",
        "print(\"\\nMean:\")\n",
        "print(mean)\n",
        "print(\"Median:\")\n",
        "print(median)\n",
        "print(\"Standard Deviation:\")\n",
        "print(std_dev)\n",
        "print(\"Variance:\")\n",
        "print(variance)\n"
      ],
      "metadata": {
        "colab": {
          "base_uri": "https://localhost:8080/"
        },
        "id": "crnNFCVWJUOr",
        "outputId": "d4c7f6f6-33e9-479d-a615-4c3e5bd7fe92"
      },
      "execution_count": null,
      "outputs": [
        {
          "output_type": "stream",
          "name": "stdout",
          "text": [
            "Array:\n",
            "[0.42897138 0.60929756 0.15780542 0.30456837 0.94724876 0.78979036\n",
            " 0.67399345 0.00804572 0.1706217  0.62953779 0.59724037 0.62275051\n",
            " 0.13380231 0.998935   0.08587377]\n",
            "\n",
            "Mean:\n",
            "0.4772321662814752\n",
            "Median:\n",
            "0.5972403743672458\n",
            "Standard Deviation:\n",
            "0.30823579693862124\n",
            "Variance:\n",
            "0.09500930651438695\n"
          ]
        }
      ]
    },
    {
      "cell_type": "markdown",
      "source": [
        "2 -Create two 3x2 and 2x3 matrices with random integers. Perform matrix multiplication on these matrices."
      ],
      "metadata": {
        "id": "xMWu3UUQJaca"
      }
    },
    {
      "cell_type": "code",
      "source": [
        "import numpy as np\n",
        "\n",
        "# Create a 3x2 and a 2x3 matrix with random integers\n",
        "matrix1 = np.random.randint(1, 10, size=(3, 2))\n",
        "matrix2 = np.random.randint(1, 10, size=(2, 3))\n",
        "\n",
        "print(\"Matrix 1 (3x2):\")\n",
        "print(matrix1)\n",
        "print(\"\\nMatrix 2 (2x3):\")\n",
        "print(matrix2)\n",
        "\n",
        "# Perform matrix multiplication\n",
        "product = np.dot(matrix1, matrix2)\n",
        "\n",
        "print(\"\\nMatrix Multiplication Result:\")\n",
        "print(product)\n"
      ],
      "metadata": {
        "colab": {
          "base_uri": "https://localhost:8080/"
        },
        "id": "lMD21j_2JeP1",
        "outputId": "9a4b5153-4cca-4ed0-eee4-d4a787bf96d4"
      },
      "execution_count": null,
      "outputs": [
        {
          "output_type": "stream",
          "name": "stdout",
          "text": [
            "Matrix 1 (3x2):\n",
            "[[7 2]\n",
            " [9 3]\n",
            " [5 2]]\n",
            "\n",
            "Matrix 2 (2x3):\n",
            "[[8 3 6]\n",
            " [6 4 1]]\n",
            "\n",
            "Matrix Multiplication Result:\n",
            "[[68 29 44]\n",
            " [90 39 57]\n",
            " [52 23 32]]\n"
          ]
        }
      ]
    },
    {
      "cell_type": "markdown",
      "source": [
        "3 -Create two 3x3 matrices with random integers between 1 and 10. Perform element-wise addition, subtraction, multiplication, and division on these matrices.\n"
      ],
      "metadata": {
        "id": "vvnxYWLPJgmT"
      }
    },
    {
      "cell_type": "code",
      "source": [
        "import numpy as np\n",
        "\n",
        "# Create two 3x3 matrices with random integers between 1 and 10\n",
        "matrix1 = np.random.randint(1, 10, size=(3, 3))\n",
        "matrix2 = np.random.randint(1, 10, size=(3, 3))\n",
        "\n",
        "print(\"Matrix 1:\")\n",
        "print(matrix1)\n",
        "print(\"\\nMatrix 2:\")\n",
        "print(matrix2)\n",
        "\n",
        "# Perform element-wise operations\n",
        "addition = np.add(matrix1, matrix2)\n",
        "subtraction = np.subtract(matrix1, matrix2)\n",
        "multiplication = np.multiply(matrix1, matrix2)\n",
        "division = np.divide(matrix1, matrix2)\n",
        "\n",
        "print(\"\\nElement-wise Addition:\")\n",
        "print(addition)\n",
        "print(\"\\nElement-wise Subtraction:\")\n",
        "print(subtraction)\n",
        "print(\"\\nElement-wise Multiplication:\")\n",
        "print(multiplication)\n",
        "print(\"\\nElement-wise Division:\")\n",
        "print(division)\n"
      ],
      "metadata": {
        "colab": {
          "base_uri": "https://localhost:8080/"
        },
        "id": "ShA_Es70Jjwo",
        "outputId": "7c1b675f-442e-4861-b4e4-0125ff77fbb3"
      },
      "execution_count": null,
      "outputs": [
        {
          "output_type": "stream",
          "name": "stdout",
          "text": [
            "Matrix 1:\n",
            "[[6 7 4]\n",
            " [2 3 9]\n",
            " [7 7 9]]\n",
            "\n",
            "Matrix 2:\n",
            "[[7 2 5]\n",
            " [4 8 1]\n",
            " [3 4 7]]\n",
            "\n",
            "Element-wise Addition:\n",
            "[[13  9  9]\n",
            " [ 6 11 10]\n",
            " [10 11 16]]\n",
            "\n",
            "Element-wise Subtraction:\n",
            "[[-1  5 -1]\n",
            " [-2 -5  8]\n",
            " [ 4  3  2]]\n",
            "\n",
            "Element-wise Multiplication:\n",
            "[[42 14 20]\n",
            " [ 8 24  9]\n",
            " [21 28 63]]\n",
            "\n",
            "Element-wise Division:\n",
            "[[0.85714286 3.5        0.8       ]\n",
            " [0.5        0.375      9.        ]\n",
            " [2.33333333 1.75       1.28571429]]\n"
          ]
        }
      ]
    },
    {
      "cell_type": "markdown",
      "source": [
        "4 - Create a 2D array with random integers between 0 and 50, with dimensions 4x5. Find the sum of each row and each column."
      ],
      "metadata": {
        "id": "GPbgRPmGJq6c"
      }
    },
    {
      "cell_type": "code",
      "source": [
        "import numpy as np\n",
        "\n",
        "# Create a 2D array with random integers between 0 and 50\n",
        "array = np.random.randint(0, 50, size=(4, 5))\n",
        "print(\"Original Array:\")\n",
        "print(array)\n",
        "\n",
        "# Find the sum of each row\n",
        "row_sums = np.sum(array, axis=1)\n",
        "print(\"\\nSum of each row:\")\n",
        "print(row_sums)\n",
        "\n",
        "# Find the sum of each column\n",
        "col_sums = np.sum(array, axis=0)\n",
        "print(\"\\nSum of each column:\")\n",
        "print(col_sums)\n"
      ],
      "metadata": {
        "colab": {
          "base_uri": "https://localhost:8080/"
        },
        "id": "HpusyANyJtEk",
        "outputId": "e9819f0e-6a00-499e-9927-d661863bf6d3"
      },
      "execution_count": null,
      "outputs": [
        {
          "output_type": "stream",
          "name": "stdout",
          "text": [
            "Original Array:\n",
            "[[42 35 22 29 20]\n",
            " [31 31 40 21 13]\n",
            " [31 18 32  5 36]\n",
            " [36  3 33 32 48]]\n",
            "\n",
            "Sum of each row:\n",
            "[148 136 122 152]\n",
            "\n",
            "Sum of each column:\n",
            "[140  87 127  87 117]\n"
          ]
        }
      ]
    }
  ]
}