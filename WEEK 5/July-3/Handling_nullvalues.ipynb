{
  "nbformat": 4,
  "nbformat_minor": 0,
  "metadata": {
    "colab": {
      "provenance": []
    },
    "kernelspec": {
      "name": "python3",
      "display_name": "Python 3"
    },
    "language_info": {
      "name": "python"
    }
  },
  "cells": [
    {
      "cell_type": "markdown",
      "source": [
        "Removing rows with null values"
      ],
      "metadata": {
        "id": "ba0KK8LLTFrH"
      }
    },
    {
      "cell_type": "code",
      "execution_count": 7,
      "metadata": {
        "colab": {
          "base_uri": "https://localhost:8080/"
        },
        "id": "28mtvR2hS-iU",
        "outputId": "72d6021e-2ef1-4a4f-a1a6-6c967ca56c73"
      },
      "outputs": [
        {
          "output_type": "stream",
          "name": "stdout",
          "text": [
            "     A    B\n",
            "1  2.0  2.0\n",
            "3  4.0  4.0\n"
          ]
        }
      ],
      "source": [
        "import pandas as pd\n",
        "\n",
        "\n",
        "df = pd.DataFrame({\n",
        "    'A': [1, 2, None, 4],\n",
        "    'B': [None, 2, 3, 4]\n",
        "})\n",
        "\n",
        "df_cleaned = df.dropna()\n",
        "print(df_cleaned)\n"
      ]
    },
    {
      "cell_type": "markdown",
      "source": [
        "Filling null values with a specific value"
      ],
      "metadata": {
        "id": "E-NiOjf9TMd2"
      }
    },
    {
      "cell_type": "code",
      "source": [
        "import pandas as pd\n",
        "\n",
        "df = pd.DataFrame({\n",
        "    'A': [1, 2, None, 4],\n",
        "    'B': [None, 2, 3, 4]\n",
        "})\n",
        "\n",
        "\n",
        "df_filled = df.fillna(0)\n",
        "print(df_filled)\n"
      ],
      "metadata": {
        "colab": {
          "base_uri": "https://localhost:8080/"
        },
        "id": "FkwjQiWWTLzq",
        "outputId": "6bfd56ba-ac17-43d4-c474-d794b22d04d2"
      },
      "execution_count": 8,
      "outputs": [
        {
          "output_type": "stream",
          "name": "stdout",
          "text": [
            "     A    B\n",
            "0  1.0  0.0\n",
            "1  2.0  2.0\n",
            "2  0.0  3.0\n",
            "3  4.0  4.0\n"
          ]
        }
      ]
    },
    {
      "cell_type": "markdown",
      "source": [
        "Filling null values with the mean of the column"
      ],
      "metadata": {
        "id": "GySq_sxqTSTk"
      }
    },
    {
      "cell_type": "code",
      "source": [
        "import pandas as pd\n",
        "\n",
        "df = pd.DataFrame({\n",
        "    'A': [1, 2, None, 4],\n",
        "    'B': [None, 2, 3, 4]\n",
        "})\n",
        "\n",
        "# Fill null values with the mean of the column\n",
        "df['A'] = df['A'].fillna(df['A'].mean())\n",
        "df['B'] = df['B'].fillna(df['B'].mean())\n",
        "print(df)\n"
      ],
      "metadata": {
        "colab": {
          "base_uri": "https://localhost:8080/"
        },
        "id": "743mcFyGTSlA",
        "outputId": "ab3beb95-1a37-4e28-c682-3f4a715e207d"
      },
      "execution_count": 9,
      "outputs": [
        {
          "output_type": "stream",
          "name": "stdout",
          "text": [
            "          A    B\n",
            "0  1.000000  3.0\n",
            "1  2.000000  2.0\n",
            "2  2.333333  3.0\n",
            "3  4.000000  4.0\n"
          ]
        }
      ]
    },
    {
      "cell_type": "markdown",
      "source": [
        "Filling null values using forward fill method"
      ],
      "metadata": {
        "id": "PdsgV3urTXEq"
      }
    },
    {
      "cell_type": "code",
      "source": [
        "import pandas as pd\n",
        "\n",
        "df = pd.DataFrame({\n",
        "    'A': [1, 2, None, 4],\n",
        "    'B': [None, 2, 3, 4]\n",
        "})\n",
        "\n",
        "# Forward fill null values\n",
        "df_filled_ffill = df.fillna(method='ffill')\n",
        "print(df_filled_ffill)\n"
      ],
      "metadata": {
        "colab": {
          "base_uri": "https://localhost:8080/"
        },
        "id": "GMVJMut5TXLD",
        "outputId": "3b3eccb8-4f14-45fe-ccd0-20387d1141be"
      },
      "execution_count": 10,
      "outputs": [
        {
          "output_type": "stream",
          "name": "stdout",
          "text": [
            "     A    B\n",
            "0  1.0  NaN\n",
            "1  2.0  2.0\n",
            "2  2.0  3.0\n",
            "3  4.0  4.0\n"
          ]
        }
      ]
    },
    {
      "cell_type": "markdown",
      "source": [
        "Filling null values using backward fill method"
      ],
      "metadata": {
        "id": "HiWrHTNMTdBi"
      }
    },
    {
      "cell_type": "code",
      "source": [
        "import pandas as pd\n",
        "\n",
        "df = pd.DataFrame({\n",
        "    'A': [1, 2, None, 4],\n",
        "    'B': [None, 2, 3, 4]\n",
        "})\n",
        "\n",
        "# Backward fill null values\n",
        "df_filled_bfill = df.fillna(method='bfill')\n",
        "print(df_filled_bfill)\n"
      ],
      "metadata": {
        "colab": {
          "base_uri": "https://localhost:8080/"
        },
        "id": "VyWws3e4TdJy",
        "outputId": "b098ed24-bfbc-4d09-b298-230f4ac66a0b"
      },
      "execution_count": 11,
      "outputs": [
        {
          "output_type": "stream",
          "name": "stdout",
          "text": [
            "     A    B\n",
            "0  1.0  2.0\n",
            "1  2.0  2.0\n",
            "2  4.0  3.0\n",
            "3  4.0  4.0\n"
          ]
        }
      ]
    },
    {
      "cell_type": "markdown",
      "source": [
        "Detecting and Counting Null Values in a DataFrame"
      ],
      "metadata": {
        "id": "hC9ZJX9TT2E3"
      }
    },
    {
      "cell_type": "code",
      "source": [
        "import pandas as pd\n",
        "\n",
        "df = pd.DataFrame({\n",
        "    'A': [1, 2, None, 4],\n",
        "    'B': [None, 2, 3, 4]\n",
        "})\n",
        "\n",
        "# Detecting null values\n",
        "null_values = df.isnull()\n",
        "print(\"Null values in the DataFrame:\\n\", null_values)\n",
        "\n",
        "# Counting null values in each column\n",
        "null_counts = df.isnull().sum()\n",
        "print(\"\\nNumber of null values in each column:\\n\", null_counts)\n"
      ],
      "metadata": {
        "colab": {
          "base_uri": "https://localhost:8080/"
        },
        "id": "y0vJwiohT1Mw",
        "outputId": "237a5134-b2c7-4e1f-bb60-05604ef9e44f"
      },
      "execution_count": 12,
      "outputs": [
        {
          "output_type": "stream",
          "name": "stdout",
          "text": [
            "Null values in the DataFrame:\n",
            "        A      B\n",
            "0  False   True\n",
            "1  False  False\n",
            "2   True  False\n",
            "3  False  False\n",
            "\n",
            "Number of null values in each column:\n",
            " A    1\n",
            "B    1\n",
            "dtype: int64\n"
          ]
        }
      ]
    },
    {
      "cell_type": "markdown",
      "source": [
        "Interpolating Missing Values"
      ],
      "metadata": {
        "id": "O61Fl9d1T5Gk"
      }
    },
    {
      "cell_type": "code",
      "source": [
        "import pandas as pd\n",
        "\n",
        "df = pd.DataFrame({\n",
        "    'A': [1, 2, None, 4],\n",
        "    'B': [None, 2, 3, 4]\n",
        "})\n",
        "\n",
        "# Interpolating missing values\n",
        "df_interpolated = df.interpolate()\n",
        "print(\"DataFrame after interpolating missing values:\\n\", df_interpolated)\n"
      ],
      "metadata": {
        "colab": {
          "base_uri": "https://localhost:8080/"
        },
        "id": "AEWg3sFxT5PJ",
        "outputId": "a431fb92-abd8-45bb-af79-4c0fea7cee8e"
      },
      "execution_count": 13,
      "outputs": [
        {
          "output_type": "stream",
          "name": "stdout",
          "text": [
            "DataFrame after interpolating missing values:\n",
            "      A    B\n",
            "0  1.0  NaN\n",
            "1  2.0  2.0\n",
            "2  3.0  3.0\n",
            "3  4.0  4.0\n"
          ]
        }
      ]
    }
  ]
}